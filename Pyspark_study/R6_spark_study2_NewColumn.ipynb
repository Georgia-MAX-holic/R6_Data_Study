{
  "cells": [
    {
      "cell_type": "markdown",
      "metadata": {
        "colab_type": "text",
        "id": "view-in-github"
      },
      "source": [
        "<a href=\"https://colab.research.google.com/github/Georgia-MAX-holic/R6_data_stduy/blob/main/R6_spark_study2_NewColumn.ipynb\" target=\"_parent\"><img src=\"https://colab.research.google.com/assets/colab-badge.svg\" alt=\"Open In Colab\"/></a>"
      ]
    },
    {
      "cell_type": "code",
      "execution_count": 1,
      "metadata": {
        "colab": {
          "base_uri": "https://localhost:8080/"
        },
        "id": "MxzWLMHLzkL9",
        "outputId": "02e65404-f1ae-4435-9dd8-ba91c182e8f6"
      },
      "outputs": [
        {
          "name": "stdout",
          "output_type": "stream",
          "text": [
            "Looking in indexes: https://pypi.org/simple, https://us-python.pkg.dev/colab-wheels/public/simple/\n",
            "Collecting pyspark\n",
            "  Downloading pyspark-3.2.1.tar.gz (281.4 MB)\n",
            "\u001b[K     |████████████████████████████████| 281.4 MB 35 kB/s \n",
            "\u001b[?25hCollecting py4j==0.10.9.3\n",
            "  Downloading py4j-0.10.9.3-py2.py3-none-any.whl (198 kB)\n",
            "\u001b[K     |████████████████████████████████| 198 kB 54.2 MB/s \n",
            "\u001b[?25hBuilding wheels for collected packages: pyspark\n",
            "  Building wheel for pyspark (setup.py) ... \u001b[?25l\u001b[?25hdone\n",
            "  Created wheel for pyspark: filename=pyspark-3.2.1-py2.py3-none-any.whl size=281853642 sha256=53913e1b73fff0572b98a507a096e6d3403e7e510825a159a3be3348b70b3e59\n",
            "  Stored in directory: /root/.cache/pip/wheels/9f/f5/07/7cd8017084dce4e93e84e92efd1e1d5334db05f2e83bcef74f\n",
            "Successfully built pyspark\n",
            "Installing collected packages: py4j, pyspark\n",
            "Successfully installed py4j-0.10.9.3 pyspark-3.2.1\n"
          ]
        }
      ],
      "source": [
        "!pip install pyspark\n",
        "import pyspark\n",
        "from pyspark.sql import SparkSession\n"
      ]
    },
    {
      "cell_type": "code",
      "execution_count": 2,
      "metadata": {
        "colab": {
          "base_uri": "https://localhost:8080/"
        },
        "id": "PrOXywTM19lK",
        "outputId": "0958e47e-ed27-4083-e461-f4b2ecd5e898"
      },
      "outputs": [
        {
          "name": "stdout",
          "output_type": "stream",
          "text": [
            "Mounted at /content/gdrive\n"
          ]
        }
      ],
      "source": [
        "from google.colab import drive\n",
        "drive.mount('/content/gdrive', force_remount=True)\n"
      ]
    },
    {
      "cell_type": "code",
      "execution_count": 3,
      "metadata": {
        "id": "lzjPvD_H3grF"
      },
      "outputs": [],
      "source": [
        "path = '/content/gdrive/MyDrive/cpding/asdf/레식 데이터.csv'"
      ]
    },
    {
      "cell_type": "code",
      "execution_count": 4,
      "metadata": {
        "id": "nqbjLbrOzmi0"
      },
      "outputs": [],
      "source": [
        "spark2 = SparkSession.builder.appName(\"DataFrame\").getOrCreate()"
      ]
    },
    {
      "cell_type": "code",
      "execution_count": 5,
      "metadata": {
        "colab": {
          "base_uri": "https://localhost:8080/",
          "height": 224
        },
        "id": "Viu5RL7Wz9ZH",
        "outputId": "abfe33e9-8285-47ce-f4e3-1bc4683ba223"
      },
      "outputs": [
        {
          "data": {
            "text/html": [
              "\n",
              "            <div>\n",
              "                <p><b>SparkSession - in-memory</b></p>\n",
              "                \n",
              "        <div>\n",
              "            <p><b>SparkContext</b></p>\n",
              "\n",
              "            <p><a href=\"http://b09272996808:4040\">Spark UI</a></p>\n",
              "\n",
              "            <dl>\n",
              "              <dt>Version</dt>\n",
              "                <dd><code>v3.2.1</code></dd>\n",
              "              <dt>Master</dt>\n",
              "                <dd><code>local[*]</code></dd>\n",
              "              <dt>AppName</dt>\n",
              "                <dd><code>DataFrame</code></dd>\n",
              "            </dl>\n",
              "        </div>\n",
              "        \n",
              "            </div>\n",
              "        "
            ],
            "text/plain": [
              "<pyspark.sql.session.SparkSession at 0x7f34b0bfd290>"
            ]
          },
          "execution_count": 5,
          "metadata": {},
          "output_type": "execute_result"
        }
      ],
      "source": [
        "spark2"
      ]
    },
    {
      "cell_type": "code",
      "execution_count": 6,
      "metadata": {
        "id": "cOmrPO3_1jla"
      },
      "outputs": [],
      "source": [
        "##read Dataset\n",
        "df_spark2=spark2.read.option(\"header\",\"true\").csv(path, inferSchema=True)"
      ]
    },
    {
      "cell_type": "code",
      "execution_count": 7,
      "metadata": {
        "colab": {
          "base_uri": "https://localhost:8080/"
        },
        "id": "hQsoiIOA3oL0",
        "outputId": "61f44639-e646-4e18-eb9a-3446cde72b64"
      },
      "outputs": [
        {
          "name": "stdout",
          "output_type": "stream",
          "text": [
            "root\n",
            " |-- skillrank: string (nullable = true)\n",
            " |-- role: string (nullable = true)\n",
            " |-- operator: string (nullable = true)\n",
            " |-- primaryweapon: string (nullable = true)\n",
            " |-- secondaryweapon: string (nullable = true)\n",
            " |-- secondarygadget: string (nullable = true)\n",
            " |-- nbwins: integer (nullable = true)\n",
            " |-- nbkills: integer (nullable = true)\n",
            " |-- nbdeaths: integer (nullable = true)\n",
            " |-- nbpicks: integer (nullable = true)\n",
            "\n"
          ]
        }
      ],
      "source": [
        "df_spark2.printSchema()"
      ]
    },
    {
      "cell_type": "code",
      "execution_count": 8,
      "metadata": {
        "colab": {
          "base_uri": "https://localhost:8080/"
        },
        "id": "MchLPzaLg3oz",
        "outputId": "445ba23a-1244-4501-c8dc-47c7dde50005"
      },
      "outputs": [
        {
          "data": {
            "text/plain": [
              "['skillrank',\n",
              " 'role',\n",
              " 'operator',\n",
              " 'primaryweapon',\n",
              " 'secondaryweapon',\n",
              " 'secondarygadget',\n",
              " 'nbwins',\n",
              " 'nbkills',\n",
              " 'nbdeaths',\n",
              " 'nbpicks']"
            ]
          },
          "execution_count": 8,
          "metadata": {},
          "output_type": "execute_result"
        }
      ],
      "source": [
        "df_spark2.columns"
      ]
    },
    {
      "cell_type": "code",
      "execution_count": 9,
      "metadata": {
        "colab": {
          "base_uri": "https://localhost:8080/"
        },
        "id": "LNznJW2HmXEo",
        "outputId": "29e61dba-857e-4afe-e213-1167d6042cec"
      },
      "outputs": [
        {
          "name": "stdout",
          "output_type": "stream",
          "text": [
            "+---------+--------+-------------+-------------+---------------+---------------+------+-------+--------+-------+\n",
            "|skillrank|    role|     operator|primaryweapon|secondaryweapon|secondarygadget|nbwins|nbkills|nbdeaths|nbpicks|\n",
            "+---------+--------+-------------+-------------+---------------+---------------+------+-------+--------+-------+\n",
            "|   Bronze|Attacker| BOPE-CAPITAO|          LMG|         Pistol|       CLAYMORE|     6|      6|       6|      8|\n",
            "|   Bronze|Attacker| BOPE-CAPITAO|          LMG|         Pistol|   STUN GRENADE|     4|      2|       6|      8|\n",
            "|   Bronze|Attacker| BOPE-CAPITAO|           AR|         Pistol|       CLAYMORE|    37|     40|      49|     70|\n",
            "|   Bronze|Attacker| BOPE-CAPITAO|           AR|         Pistol|   STUN GRENADE|    17|     24|      31|     41|\n",
            "|   Bronze|Attacker|G.E.O.-JACKAL|           AR|             SG|  BREACH CHARGE|    74|    123|     127|    174|\n",
            "|   Bronze|Attacker|G.E.O.-JACKAL|           AR|             SG|   STUN GRENADE|    25|     27|      43|     54|\n",
            "|   Bronze|Attacker|G.E.O.-JACKAL|           AR|         Pistol|  BREACH CHARGE|    20|     36|      39|     49|\n",
            "|   Bronze|Attacker|G.E.O.-JACKAL|          SMG|             SG|  BREACH CHARGE|    17|     33|      27|     38|\n",
            "|   Bronze|Attacker|G.E.O.-JACKAL|          SMG|             SG|   STUN GRENADE|     4|      3|       5|      8|\n",
            "|   Bronze|Attacker|G.E.O.-JACKAL|          SMG|         Pistol|  BREACH CHARGE|     2|      4|       5|      7|\n",
            "|   Bronze|Attacker|G.E.O.-JACKAL|          SMG|         Pistol|   STUN GRENADE|     0|      2|       1|      1|\n",
            "|   Bronze|Attacker|GIGN-MONTAGNE|       Shield|         Pistol|  SMOKE GRENADE|     5|      9|      11|     15|\n",
            "|   Bronze|Attacker|GIGN-MONTAGNE|       Shield|         Pistol|   STUN GRENADE|    16|     19|      44|     55|\n",
            "|   Bronze|Attacker|GIGN-MONTAGNE|       Shield|         Pistol|  SMOKE GRENADE|     8|      9|      27|     31|\n",
            "|   Bronze|Attacker|GIGN-MONTAGNE|       Shield|         Pistol|   STUN GRENADE|    34|     35|      48|     74|\n",
            "|   Bronze|Attacker| GIGN-RESERVE|           AR|         Pistol|   FRAG GRENADE|     0|      0|       4|      4|\n",
            "|   Bronze|Attacker| GIGN-RESERVE|           AR|         Pistol|   STUN GRENADE|     1|      1|       0|      1|\n",
            "|   Bronze|Attacker|  GIGN-TWITCH|           AR|         Pistol|  BREACH CHARGE|    23|     29|      48|     63|\n",
            "|   Bronze|Attacker|  GIGN-TWITCH|           AR|         Pistol|       CLAYMORE|    11|     17|      14|     23|\n",
            "|   Bronze|Attacker|  GIGN-TWITCH|           AR|         Pistol|  BREACH CHARGE|    50|    113|     110|    153|\n",
            "+---------+--------+-------------+-------------+---------------+---------------+------+-------+--------+-------+\n",
            "only showing top 20 rows\n",
            "\n"
          ]
        }
      ],
      "source": [
        "df_spark2.show()"
      ]
    },
    {
      "cell_type": "code",
      "execution_count": 10,
      "metadata": {
        "colab": {
          "base_uri": "https://localhost:8080/"
        },
        "id": "WjsSgsTWhF1v",
        "outputId": "efe6a8d3-55e9-4155-cdc8-8153a1444a6f"
      },
      "outputs": [
        {
          "name": "stdout",
          "output_type": "stream",
          "text": [
            "+---------+-------------+\n",
            "|skillrank|     operator|\n",
            "+---------+-------------+\n",
            "|   Bronze| BOPE-CAPITAO|\n",
            "|   Bronze| BOPE-CAPITAO|\n",
            "|   Bronze| BOPE-CAPITAO|\n",
            "|   Bronze| BOPE-CAPITAO|\n",
            "|   Bronze|G.E.O.-JACKAL|\n",
            "|   Bronze|G.E.O.-JACKAL|\n",
            "|   Bronze|G.E.O.-JACKAL|\n",
            "|   Bronze|G.E.O.-JACKAL|\n",
            "|   Bronze|G.E.O.-JACKAL|\n",
            "|   Bronze|G.E.O.-JACKAL|\n",
            "|   Bronze|G.E.O.-JACKAL|\n",
            "|   Bronze|GIGN-MONTAGNE|\n",
            "|   Bronze|GIGN-MONTAGNE|\n",
            "|   Bronze|GIGN-MONTAGNE|\n",
            "|   Bronze|GIGN-MONTAGNE|\n",
            "|   Bronze| GIGN-RESERVE|\n",
            "|   Bronze| GIGN-RESERVE|\n",
            "|   Bronze|  GIGN-TWITCH|\n",
            "|   Bronze|  GIGN-TWITCH|\n",
            "|   Bronze|  GIGN-TWITCH|\n",
            "+---------+-------------+\n",
            "only showing top 20 rows\n",
            "\n"
          ]
        }
      ],
      "source": [
        "df_spark2.select(\"skillrank\",\"operator\").show()"
      ]
    },
    {
      "cell_type": "code",
      "execution_count": 11,
      "metadata": {
        "colab": {
          "base_uri": "https://localhost:8080/"
        },
        "id": "y8m-8BW-hVQJ",
        "outputId": "8cc8dadf-5834-4fe6-8ac3-806d90605b2f"
      },
      "outputs": [
        {
          "data": {
            "text/plain": [
              "pyspark.sql.dataframe.DataFrame"
            ]
          },
          "execution_count": 11,
          "metadata": {},
          "output_type": "execute_result"
        }
      ],
      "source": [
        "type(df_spark2.select(\"skillrank\"))"
      ]
    },
    {
      "cell_type": "code",
      "execution_count": 12,
      "metadata": {
        "colab": {
          "base_uri": "https://localhost:8080/"
        },
        "id": "IaNeiEz7hcxX",
        "outputId": "d977d7af-ad69-4184-ff8e-0e85d4120618"
      },
      "outputs": [
        {
          "data": {
            "text/plain": [
              "[('skillrank', 'string'),\n",
              " ('role', 'string'),\n",
              " ('operator', 'string'),\n",
              " ('primaryweapon', 'string'),\n",
              " ('secondaryweapon', 'string'),\n",
              " ('secondarygadget', 'string'),\n",
              " ('nbwins', 'int'),\n",
              " ('nbkills', 'int'),\n",
              " ('nbdeaths', 'int'),\n",
              " ('nbpicks', 'int')]"
            ]
          },
          "execution_count": 12,
          "metadata": {},
          "output_type": "execute_result"
        }
      ],
      "source": [
        "df_spark2.dtypes"
      ]
    },
    {
      "cell_type": "code",
      "execution_count": 13,
      "metadata": {
        "colab": {
          "base_uri": "https://localhost:8080/"
        },
        "id": "7c7Qw4fLpsmW",
        "outputId": "a1a25071-df4e-4c27-f0a5-26a7a4c6e5e3"
      },
      "outputs": [
        {
          "name": "stdout",
          "output_type": "stream",
          "text": [
            "+-------+---------+--------+-------------+-------------+---------------+---------------+-----------------+------------------+------------------+------------------+\n",
            "|summary|skillrank|    role|     operator|primaryweapon|secondaryweapon|secondarygadget|           nbwins|           nbkills|          nbdeaths|           nbpicks|\n",
            "+-------+---------+--------+-------------+-------------+---------------+---------------+-----------------+------------------+------------------+------------------+\n",
            "|  count|   509692|  509692|       509692|       509691|         509692|         509692|           509692|            509692|            509692|            509692|\n",
            "|   mean|     null|    null|         null|         null|           null|           null|85.80263570940882|118.33800805192155|118.92534903431877|168.61103568429562|\n",
            "| stddev|     null|    null|         null|         null|           null|           null|248.0859084209242|362.40023690874506| 339.9974381400302| 480.1918389632616|\n",
            "|    min|   Bronze|Attacker| BOPE-CAPITAO|           AR|         Pistol|    BARBED WIRE|                0|                 0|                 0|                 1|\n",
            "|    max| Unranked|Defender|SWAT-THERMITE|       Shield|            SMG|   STUN GRENADE|             7752|             12973|             10242|             14410|\n",
            "+-------+---------+--------+-------------+-------------+---------------+---------------+-----------------+------------------+------------------+------------------+\n",
            "\n"
          ]
        }
      ],
      "source": [
        "df_spark2.describe().show()"
      ]
    },
    {
      "cell_type": "code",
      "execution_count": 14,
      "metadata": {
        "id": "N_hnzhIexz0s"
      },
      "outputs": [],
      "source": [
        "### adding Columns in data frame \n",
        "col=df_spark2.withColumn(\"new column\", df_spark2[\"nbkills\"]+2)"
      ]
    },
    {
      "cell_type": "code",
      "execution_count": 15,
      "metadata": {
        "colab": {
          "base_uri": "https://localhost:8080/"
        },
        "id": "IA4peGZ1yjaD",
        "outputId": "e9f46de4-212e-4b11-abe9-9b1a9911b684"
      },
      "outputs": [
        {
          "name": "stdout",
          "output_type": "stream",
          "text": [
            "+---------+--------+-------------+-------------+---------------+---------------+------+-------+--------+-------+----------+\n",
            "|skillrank|    role|     operator|primaryweapon|secondaryweapon|secondarygadget|nbwins|nbkills|nbdeaths|nbpicks|new column|\n",
            "+---------+--------+-------------+-------------+---------------+---------------+------+-------+--------+-------+----------+\n",
            "|   Bronze|Attacker| BOPE-CAPITAO|          LMG|         Pistol|       CLAYMORE|     6|      6|       6|      8|         8|\n",
            "|   Bronze|Attacker| BOPE-CAPITAO|          LMG|         Pistol|   STUN GRENADE|     4|      2|       6|      8|         4|\n",
            "|   Bronze|Attacker| BOPE-CAPITAO|           AR|         Pistol|       CLAYMORE|    37|     40|      49|     70|        42|\n",
            "|   Bronze|Attacker| BOPE-CAPITAO|           AR|         Pistol|   STUN GRENADE|    17|     24|      31|     41|        26|\n",
            "|   Bronze|Attacker|G.E.O.-JACKAL|           AR|             SG|  BREACH CHARGE|    74|    123|     127|    174|       125|\n",
            "|   Bronze|Attacker|G.E.O.-JACKAL|           AR|             SG|   STUN GRENADE|    25|     27|      43|     54|        29|\n",
            "|   Bronze|Attacker|G.E.O.-JACKAL|           AR|         Pistol|  BREACH CHARGE|    20|     36|      39|     49|        38|\n",
            "|   Bronze|Attacker|G.E.O.-JACKAL|          SMG|             SG|  BREACH CHARGE|    17|     33|      27|     38|        35|\n",
            "|   Bronze|Attacker|G.E.O.-JACKAL|          SMG|             SG|   STUN GRENADE|     4|      3|       5|      8|         5|\n",
            "|   Bronze|Attacker|G.E.O.-JACKAL|          SMG|         Pistol|  BREACH CHARGE|     2|      4|       5|      7|         6|\n",
            "|   Bronze|Attacker|G.E.O.-JACKAL|          SMG|         Pistol|   STUN GRENADE|     0|      2|       1|      1|         4|\n",
            "|   Bronze|Attacker|GIGN-MONTAGNE|       Shield|         Pistol|  SMOKE GRENADE|     5|      9|      11|     15|        11|\n",
            "|   Bronze|Attacker|GIGN-MONTAGNE|       Shield|         Pistol|   STUN GRENADE|    16|     19|      44|     55|        21|\n",
            "|   Bronze|Attacker|GIGN-MONTAGNE|       Shield|         Pistol|  SMOKE GRENADE|     8|      9|      27|     31|        11|\n",
            "|   Bronze|Attacker|GIGN-MONTAGNE|       Shield|         Pistol|   STUN GRENADE|    34|     35|      48|     74|        37|\n",
            "|   Bronze|Attacker| GIGN-RESERVE|           AR|         Pistol|   FRAG GRENADE|     0|      0|       4|      4|         2|\n",
            "|   Bronze|Attacker| GIGN-RESERVE|           AR|         Pistol|   STUN GRENADE|     1|      1|       0|      1|         3|\n",
            "|   Bronze|Attacker|  GIGN-TWITCH|           AR|         Pistol|  BREACH CHARGE|    23|     29|      48|     63|        31|\n",
            "|   Bronze|Attacker|  GIGN-TWITCH|           AR|         Pistol|       CLAYMORE|    11|     17|      14|     23|        19|\n",
            "|   Bronze|Attacker|  GIGN-TWITCH|           AR|         Pistol|  BREACH CHARGE|    50|    113|     110|    153|       115|\n",
            "+---------+--------+-------------+-------------+---------------+---------------+------+-------+--------+-------+----------+\n",
            "only showing top 20 rows\n",
            "\n"
          ]
        }
      ],
      "source": [
        "col.show()"
      ]
    },
    {
      "cell_type": "code",
      "execution_count": 16,
      "metadata": {
        "id": "Q28KHrlb7D7j"
      },
      "outputs": [],
      "source": [
        "df_pyspark=df_spark2.drop(\"new column\")"
      ]
    },
    {
      "cell_type": "code",
      "execution_count": 17,
      "metadata": {
        "colab": {
          "base_uri": "https://localhost:8080/"
        },
        "id": "j-XA8v5N7L4W",
        "outputId": "f3a18b01-28ca-4c3f-a6e9-e7cc2160ee01"
      },
      "outputs": [
        {
          "name": "stdout",
          "output_type": "stream",
          "text": [
            "+---------+--------+-------------+-------------+---------------+---------------+------+-------+--------+-------+\n",
            "|skillrank|    role|     operator|primaryweapon|secondaryweapon|secondarygadget|nbwins|nbkills|nbdeaths|nbpicks|\n",
            "+---------+--------+-------------+-------------+---------------+---------------+------+-------+--------+-------+\n",
            "|   Bronze|Attacker| BOPE-CAPITAO|          LMG|         Pistol|       CLAYMORE|     6|      6|       6|      8|\n",
            "|   Bronze|Attacker| BOPE-CAPITAO|          LMG|         Pistol|   STUN GRENADE|     4|      2|       6|      8|\n",
            "|   Bronze|Attacker| BOPE-CAPITAO|           AR|         Pistol|       CLAYMORE|    37|     40|      49|     70|\n",
            "|   Bronze|Attacker| BOPE-CAPITAO|           AR|         Pistol|   STUN GRENADE|    17|     24|      31|     41|\n",
            "|   Bronze|Attacker|G.E.O.-JACKAL|           AR|             SG|  BREACH CHARGE|    74|    123|     127|    174|\n",
            "|   Bronze|Attacker|G.E.O.-JACKAL|           AR|             SG|   STUN GRENADE|    25|     27|      43|     54|\n",
            "|   Bronze|Attacker|G.E.O.-JACKAL|           AR|         Pistol|  BREACH CHARGE|    20|     36|      39|     49|\n",
            "|   Bronze|Attacker|G.E.O.-JACKAL|          SMG|             SG|  BREACH CHARGE|    17|     33|      27|     38|\n",
            "|   Bronze|Attacker|G.E.O.-JACKAL|          SMG|             SG|   STUN GRENADE|     4|      3|       5|      8|\n",
            "|   Bronze|Attacker|G.E.O.-JACKAL|          SMG|         Pistol|  BREACH CHARGE|     2|      4|       5|      7|\n",
            "|   Bronze|Attacker|G.E.O.-JACKAL|          SMG|         Pistol|   STUN GRENADE|     0|      2|       1|      1|\n",
            "|   Bronze|Attacker|GIGN-MONTAGNE|       Shield|         Pistol|  SMOKE GRENADE|     5|      9|      11|     15|\n",
            "|   Bronze|Attacker|GIGN-MONTAGNE|       Shield|         Pistol|   STUN GRENADE|    16|     19|      44|     55|\n",
            "|   Bronze|Attacker|GIGN-MONTAGNE|       Shield|         Pistol|  SMOKE GRENADE|     8|      9|      27|     31|\n",
            "|   Bronze|Attacker|GIGN-MONTAGNE|       Shield|         Pistol|   STUN GRENADE|    34|     35|      48|     74|\n",
            "|   Bronze|Attacker| GIGN-RESERVE|           AR|         Pistol|   FRAG GRENADE|     0|      0|       4|      4|\n",
            "|   Bronze|Attacker| GIGN-RESERVE|           AR|         Pistol|   STUN GRENADE|     1|      1|       0|      1|\n",
            "|   Bronze|Attacker|  GIGN-TWITCH|           AR|         Pistol|  BREACH CHARGE|    23|     29|      48|     63|\n",
            "|   Bronze|Attacker|  GIGN-TWITCH|           AR|         Pistol|       CLAYMORE|    11|     17|      14|     23|\n",
            "|   Bronze|Attacker|  GIGN-TWITCH|           AR|         Pistol|  BREACH CHARGE|    50|    113|     110|    153|\n",
            "+---------+--------+-------------+-------------+---------------+---------------+------+-------+--------+-------+\n",
            "only showing top 20 rows\n",
            "\n"
          ]
        }
      ],
      "source": [
        "df_pyspark.show()"
      ]
    },
    {
      "cell_type": "code",
      "execution_count": 18,
      "metadata": {
        "colab": {
          "base_uri": "https://localhost:8080/"
        },
        "id": "1MdPuVOw7YYh",
        "outputId": "99455ae0-0347-46bb-b60c-715bf35e5777"
      },
      "outputs": [
        {
          "name": "stdout",
          "output_type": "stream",
          "text": [
            "+---------+--------+-------------+-----------+---------------+---------------+------+-------+--------+-------+\n",
            "|skillrank|    role|     operator| mainweapon|secondaryweapon|secondarygadget|nbwins|nbkills|nbdeaths|nbpicks|\n",
            "+---------+--------+-------------+-----------+---------------+---------------+------+-------+--------+-------+\n",
            "|   Bronze|Attacker| BOPE-CAPITAO|        LMG|         Pistol|       CLAYMORE|     6|      6|       6|      8|\n",
            "|   Bronze|Attacker| BOPE-CAPITAO|        LMG|         Pistol|   STUN GRENADE|     4|      2|       6|      8|\n",
            "|   Bronze|Attacker| BOPE-CAPITAO|         AR|         Pistol|       CLAYMORE|    37|     40|      49|     70|\n",
            "|   Bronze|Attacker| BOPE-CAPITAO|         AR|         Pistol|   STUN GRENADE|    17|     24|      31|     41|\n",
            "|   Bronze|Attacker|G.E.O.-JACKAL|         AR|             SG|  BREACH CHARGE|    74|    123|     127|    174|\n",
            "|   Bronze|Attacker|G.E.O.-JACKAL|         AR|             SG|   STUN GRENADE|    25|     27|      43|     54|\n",
            "|   Bronze|Attacker|G.E.O.-JACKAL|         AR|         Pistol|  BREACH CHARGE|    20|     36|      39|     49|\n",
            "|   Bronze|Attacker|G.E.O.-JACKAL|        SMG|             SG|  BREACH CHARGE|    17|     33|      27|     38|\n",
            "|   Bronze|Attacker|G.E.O.-JACKAL|        SMG|             SG|   STUN GRENADE|     4|      3|       5|      8|\n",
            "|   Bronze|Attacker|G.E.O.-JACKAL|        SMG|         Pistol|  BREACH CHARGE|     2|      4|       5|      7|\n",
            "|   Bronze|Attacker|G.E.O.-JACKAL|        SMG|         Pistol|   STUN GRENADE|     0|      2|       1|      1|\n",
            "|   Bronze|Attacker|GIGN-MONTAGNE|     Shield|         Pistol|  SMOKE GRENADE|     5|      9|      11|     15|\n",
            "|   Bronze|Attacker|GIGN-MONTAGNE|     Shield|         Pistol|   STUN GRENADE|    16|     19|      44|     55|\n",
            "|   Bronze|Attacker|GIGN-MONTAGNE|     Shield|         Pistol|  SMOKE GRENADE|     8|      9|      27|     31|\n",
            "|   Bronze|Attacker|GIGN-MONTAGNE|     Shield|         Pistol|   STUN GRENADE|    34|     35|      48|     74|\n",
            "|   Bronze|Attacker| GIGN-RESERVE|         AR|         Pistol|   FRAG GRENADE|     0|      0|       4|      4|\n",
            "|   Bronze|Attacker| GIGN-RESERVE|         AR|         Pistol|   STUN GRENADE|     1|      1|       0|      1|\n",
            "|   Bronze|Attacker|  GIGN-TWITCH|         AR|         Pistol|  BREACH CHARGE|    23|     29|      48|     63|\n",
            "|   Bronze|Attacker|  GIGN-TWITCH|         AR|         Pistol|       CLAYMORE|    11|     17|      14|     23|\n",
            "|   Bronze|Attacker|  GIGN-TWITCH|         AR|         Pistol|  BREACH CHARGE|    50|    113|     110|    153|\n",
            "+---------+--------+-------------+-----------+---------------+---------------+------+-------+--------+-------+\n",
            "only showing top 20 rows\n",
            "\n"
          ]
        }
      ],
      "source": [
        "### Rename the columns\n",
        "df_pyspark.withColumnRenamed(\"primaryweapon\",\" mainweapon\").show()"
      ]
    },
    {
      "cell_type": "code",
      "execution_count": 19,
      "metadata": {
        "colab": {
          "base_uri": "https://localhost:8080/"
        },
        "id": "8-YflolK9kTR",
        "outputId": "a0342f79-e1b8-45a6-e86d-e81c614b6efe"
      },
      "outputs": [
        {
          "name": "stdout",
          "output_type": "stream",
          "text": [
            "+---------+--------+-------------+-------------+---------------+---------------+------+-------+--------+-------+\n",
            "|skillrank|    role|     operator|primaryweapon|secondaryweapon|secondarygadget|nbwins|nbkills|nbdeaths|nbpicks|\n",
            "+---------+--------+-------------+-------------+---------------+---------------+------+-------+--------+-------+\n",
            "|   Bronze|Attacker| BOPE-CAPITAO|          LMG|         Pistol|       CLAYMORE|     6|      6|       6|      8|\n",
            "|   Bronze|Attacker| BOPE-CAPITAO|          LMG|         Pistol|   STUN GRENADE|     4|      2|       6|      8|\n",
            "|   Bronze|Attacker| BOPE-CAPITAO|           AR|         Pistol|       CLAYMORE|    37|     40|      49|     70|\n",
            "|   Bronze|Attacker| BOPE-CAPITAO|           AR|         Pistol|   STUN GRENADE|    17|     24|      31|     41|\n",
            "|   Bronze|Attacker|G.E.O.-JACKAL|           AR|             SG|  BREACH CHARGE|    74|    123|     127|    174|\n",
            "|   Bronze|Attacker|G.E.O.-JACKAL|           AR|             SG|   STUN GRENADE|    25|     27|      43|     54|\n",
            "|   Bronze|Attacker|G.E.O.-JACKAL|           AR|         Pistol|  BREACH CHARGE|    20|     36|      39|     49|\n",
            "|   Bronze|Attacker|G.E.O.-JACKAL|          SMG|             SG|  BREACH CHARGE|    17|     33|      27|     38|\n",
            "|   Bronze|Attacker|G.E.O.-JACKAL|          SMG|             SG|   STUN GRENADE|     4|      3|       5|      8|\n",
            "|   Bronze|Attacker|G.E.O.-JACKAL|          SMG|         Pistol|  BREACH CHARGE|     2|      4|       5|      7|\n",
            "|   Bronze|Attacker|G.E.O.-JACKAL|          SMG|         Pistol|   STUN GRENADE|     0|      2|       1|      1|\n",
            "|   Bronze|Attacker|GIGN-MONTAGNE|       Shield|         Pistol|  SMOKE GRENADE|     5|      9|      11|     15|\n",
            "|   Bronze|Attacker|GIGN-MONTAGNE|       Shield|         Pistol|   STUN GRENADE|    16|     19|      44|     55|\n",
            "|   Bronze|Attacker|GIGN-MONTAGNE|       Shield|         Pistol|  SMOKE GRENADE|     8|      9|      27|     31|\n",
            "|   Bronze|Attacker|GIGN-MONTAGNE|       Shield|         Pistol|   STUN GRENADE|    34|     35|      48|     74|\n",
            "|   Bronze|Attacker| GIGN-RESERVE|           AR|         Pistol|   FRAG GRENADE|     0|      0|       4|      4|\n",
            "|   Bronze|Attacker| GIGN-RESERVE|           AR|         Pistol|   STUN GRENADE|     1|      1|       0|      1|\n",
            "|   Bronze|Attacker|  GIGN-TWITCH|           AR|         Pistol|  BREACH CHARGE|    23|     29|      48|     63|\n",
            "|   Bronze|Attacker|  GIGN-TWITCH|           AR|         Pistol|       CLAYMORE|    11|     17|      14|     23|\n",
            "|   Bronze|Attacker|  GIGN-TWITCH|           AR|         Pistol|  BREACH CHARGE|    50|    113|     110|    153|\n",
            "+---------+--------+-------------+-------------+---------------+---------------+------+-------+--------+-------+\n",
            "only showing top 20 rows\n",
            "\n"
          ]
        }
      ],
      "source": [
        "df_pyspark.show()"
      ]
    },
    {
      "cell_type": "code",
      "execution_count": 19,
      "metadata": {
        "id": "HB3RRIamBm_0"
      },
      "outputs": [],
      "source": []
    }
  ],
  "metadata": {
    "colab": {
      "authorship_tag": "ABX9TyO0YIXCE+djw2L6tHUcpaX9",
      "collapsed_sections": [],
      "include_colab_link": true,
      "name": "Untitled17.ipynb",
      "provenance": []
    },
    "kernelspec": {
      "display_name": "Python 3.10.6 64-bit (windows store)",
      "language": "python",
      "name": "python3"
    },
    "language_info": {
      "name": "python",
      "version": "3.10.6"
    },
    "vscode": {
      "interpreter": {
        "hash": "92bc995fc34282b272aee51ccce4b21f05b071ac5797b80b1f24a1fb888e23fa"
      }
    }
  },
  "nbformat": 4,
  "nbformat_minor": 0
}
