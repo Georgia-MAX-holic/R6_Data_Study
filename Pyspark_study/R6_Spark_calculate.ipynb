{
  "nbformat": 4,
  "nbformat_minor": 0,
  "metadata": {
    "colab": {
      "name": "Untitled18.ipynb",
      "provenance": [],
      "collapsed_sections": [],
      "authorship_tag": "ABX9TyNMx9zTrJ0KtAN5oglOZTGR",
      "include_colab_link": true
    },
    "kernelspec": {
      "name": "python3",
      "display_name": "Python 3"
    },
    "language_info": {
      "name": "python"
    }
  },
  "cells": [
    {
      "cell_type": "markdown",
      "metadata": {
        "id": "view-in-github",
        "colab_type": "text"
      },
      "source": [
        "<a href=\"https://colab.research.google.com/github/Georgia-MAX-holic/R6_data_stduy/blob/main/R6_Spark_calculate.ipynb\" target=\"_parent\"><img src=\"https://colab.research.google.com/assets/colab-badge.svg\" alt=\"Open In Colab\"/></a>"
      ]
    },
    {
      "cell_type": "code",
      "execution_count": 1,
      "metadata": {
        "id": "cF0H5ED4sb4s",
        "colab": {
          "base_uri": "https://localhost:8080/"
        },
        "outputId": "b5c11544-bafe-4478-b108-13e65b9928d1"
      },
      "outputs": [
        {
          "output_type": "stream",
          "name": "stdout",
          "text": [
            "Looking in indexes: https://pypi.org/simple, https://us-python.pkg.dev/colab-wheels/public/simple/\n",
            "Collecting pyspark\n",
            "  Downloading pyspark-3.2.1.tar.gz (281.4 MB)\n",
            "\u001b[K     |████████████████████████████████| 281.4 MB 34 kB/s \n",
            "\u001b[?25hCollecting py4j==0.10.9.3\n",
            "  Downloading py4j-0.10.9.3-py2.py3-none-any.whl (198 kB)\n",
            "\u001b[K     |████████████████████████████████| 198 kB 51.6 MB/s \n",
            "\u001b[?25hBuilding wheels for collected packages: pyspark\n",
            "  Building wheel for pyspark (setup.py) ... \u001b[?25l\u001b[?25hdone\n",
            "  Created wheel for pyspark: filename=pyspark-3.2.1-py2.py3-none-any.whl size=281853642 sha256=1228666f9d75ea7d7c8e5e433fe98219299276d1a9cee2183bea1f55a23fa685\n",
            "  Stored in directory: /root/.cache/pip/wheels/9f/f5/07/7cd8017084dce4e93e84e92efd1e1d5334db05f2e83bcef74f\n",
            "Successfully built pyspark\n",
            "Installing collected packages: py4j, pyspark\n",
            "Successfully installed py4j-0.10.9.3 pyspark-3.2.1\n"
          ]
        }
      ],
      "source": [
        "!pip install pyspark\n",
        "import pyspark\n",
        "from pyspark.sql import SparkSession\n",
        "spark=SparkSession.builder.appName(\"R6_study\").getOrCreate()"
      ]
    },
    {
      "cell_type": "code",
      "source": [
        "from google.colab import drive\n",
        "drive.mount('/content/gdrive', force_remount=True)"
      ],
      "metadata": {
        "id": "IzQDMWI3su_k",
        "colab": {
          "base_uri": "https://localhost:8080/"
        },
        "outputId": "67d004e4-7028-4109-aa2b-be11f6efa130"
      },
      "execution_count": 2,
      "outputs": [
        {
          "output_type": "stream",
          "name": "stdout",
          "text": [
            "Mounted at /content/gdrive\n"
          ]
        }
      ]
    },
    {
      "cell_type": "code",
      "source": [
        "path = '/content/gdrive/MyDrive/cpding/asdf/레식 데이터.csv'\n",
        "df_spark=spark.read.option(\"header\",\"true\").csv(path, inferSchema=True)"
      ],
      "metadata": {
        "id": "NzsfVvXGuXOz"
      },
      "execution_count": 3,
      "outputs": []
    },
    {
      "cell_type": "code",
      "source": [
        " df_spark.show(6)"
      ],
      "metadata": {
        "id": "dQZQaoYNuiKd",
        "colab": {
          "base_uri": "https://localhost:8080/"
        },
        "outputId": "8dfd25a8-ebaa-402a-8c5b-5d566c2a0be7"
      },
      "execution_count": 4,
      "outputs": [
        {
          "output_type": "stream",
          "name": "stdout",
          "text": [
            "+---------+--------+-------------+-------------+---------------+---------------+------+-------+--------+-------+\n",
            "|skillrank|    role|     operator|primaryweapon|secondaryweapon|secondarygadget|nbwins|nbkills|nbdeaths|nbpicks|\n",
            "+---------+--------+-------------+-------------+---------------+---------------+------+-------+--------+-------+\n",
            "|   Bronze|Attacker| BOPE-CAPITAO|          LMG|         Pistol|       CLAYMORE|     6|      6|       6|      8|\n",
            "|   Bronze|Attacker| BOPE-CAPITAO|          LMG|         Pistol|   STUN GRENADE|     4|      2|       6|      8|\n",
            "|   Bronze|Attacker| BOPE-CAPITAO|           AR|         Pistol|       CLAYMORE|    37|     40|      49|     70|\n",
            "|   Bronze|Attacker| BOPE-CAPITAO|           AR|         Pistol|   STUN GRENADE|    17|     24|      31|     41|\n",
            "|   Bronze|Attacker|G.E.O.-JACKAL|           AR|             SG|  BREACH CHARGE|    74|    123|     127|    174|\n",
            "|   Bronze|Attacker|G.E.O.-JACKAL|           AR|             SG|   STUN GRENADE|    25|     27|      43|     54|\n",
            "+---------+--------+-------------+-------------+---------------+---------------+------+-------+--------+-------+\n",
            "only showing top 6 rows\n",
            "\n"
          ]
        }
      ]
    },
    {
      "cell_type": "code",
      "source": [
        "## Group"
      ],
      "metadata": {
        "id": "uUth9laKxmf-"
      },
      "execution_count": 5,
      "outputs": []
    },
    {
      "cell_type": "code",
      "source": [
        "df_spark.printSchema()"
      ],
      "metadata": {
        "id": "gwKdD9x_xv4E",
        "colab": {
          "base_uri": "https://localhost:8080/"
        },
        "outputId": "f842de88-49b3-4878-a43f-487cb81f6dac"
      },
      "execution_count": 6,
      "outputs": [
        {
          "output_type": "stream",
          "name": "stdout",
          "text": [
            "root\n",
            " |-- skillrank: string (nullable = true)\n",
            " |-- role: string (nullable = true)\n",
            " |-- operator: string (nullable = true)\n",
            " |-- primaryweapon: string (nullable = true)\n",
            " |-- secondaryweapon: string (nullable = true)\n",
            " |-- secondarygadget: string (nullable = true)\n",
            " |-- nbwins: integer (nullable = true)\n",
            " |-- nbkills: integer (nullable = true)\n",
            " |-- nbdeaths: integer (nullable = true)\n",
            " |-- nbpicks: integer (nullable = true)\n",
            "\n"
          ]
        }
      ]
    },
    {
      "cell_type": "code",
      "source": [
        "df_spark.groupBy(\"operator\").sum().show()"
      ],
      "metadata": {
        "id": "NzFForMi0Oip",
        "colab": {
          "base_uri": "https://localhost:8080/"
        },
        "outputId": "2a1c477d-2147-4bc4-8405-006d077b274d"
      },
      "execution_count": 7,
      "outputs": [
        {
          "output_type": "stream",
          "name": "stdout",
          "text": [
            "+-------------------+-----------+------------+-------------+------------+\n",
            "|           operator|sum(nbwins)|sum(nbkills)|sum(nbdeaths)|sum(nbpicks)|\n",
            "+-------------------+-----------+------------+-------------+------------+\n",
            "|          SAS-SMOKE|    1456401|     1876766|      2131597|     2923297|\n",
            "|       GSG9-RESERVE|     256464|      334812|       414922|      541372|\n",
            "|        G.E.O.-MIRA|    1421997|     1872192|      1950157|     2812556|\n",
            "|      SWAT-THERMITE|    2064939|     2709021|      2772475|     4035172|\n",
            "|           GIGN-DOC|    1156811|     1452502|      1648521|     2323575|\n",
            "|NAVYSEAL-BLACKBEARD|     796743|     1153054|      1057530|     1573537|\n",
            "|            GSG9-IQ|     663392|      916548|       931988|     1310756|\n",
            "|       GIGN-RESERVE|      68786|       74702|       115920|      152805|\n",
            "|           SWAT-ASH|    2804165|     4494389|      3814620|     5442687|\n",
            "|           SAT-ECHO|     502868|      647863|       648248|      983731|\n",
            "|   SPETSNAZ-RESERVE|      64407|       75347|       104257|      140062|\n",
            "|         SWAT-PULSE|    1463294|     2050353|      2167415|     2938719|\n",
            "|    SPETSNAZ-KAPKAN|     907373|     1178437|      1328922|     1824308|\n",
            "|         JTAR-FROST|    1558951|     1988668|      2061413|     2932088|\n",
            "|      SPETSNAZ-FUZE|    1809942|     2799127|      2467290|     3570116|\n",
            "|          GIGN-ROOK|    1457988|     1750948|      1900518|     2748491|\n",
            "|       SWAT-RESERVE|      83246|       96859|       133210|      177558|\n",
            "|         SAS-SLEDGE|    1695019|     2397095|      2375765|     3325687|\n",
            "|        GIGN-TWITCH|    2195463|     3115920|      2747038|     4220145|\n",
            "|          JTAR-BUCK|    1032070|     1393454|      1466818|     2051160|\n",
            "+-------------------+-----------+------------+-------------+------------+\n",
            "only showing top 20 rows\n",
            "\n"
          ]
        }
      ]
    },
    {
      "cell_type": "code",
      "source": [
        "\n",
        "df_spark.groupBy(\"operator\").mean().sort(\"avg(nbpicks)\", ascending=False).show()"
      ],
      "metadata": {
        "id": "Po9i7L-o1QXN",
        "colab": {
          "base_uri": "https://localhost:8080/"
        },
        "outputId": "d8ac83e5-cbfb-4a22-cd8a-9ce0053bd8c3"
      },
      "execution_count": 8,
      "outputs": [
        {
          "output_type": "stream",
          "name": "stdout",
          "text": [
            "+-------------------+------------------+------------------+------------------+------------------+\n",
            "|           operator|       avg(nbwins)|      avg(nbkills)|     avg(nbdeaths)|      avg(nbpicks)|\n",
            "+-------------------+------------------+------------------+------------------+------------------+\n",
            "|         GSG9-JAGER| 410.0194610778443|  643.424333151878| 584.0281709308655| 800.5115677735438|\n",
            "|        GSG9-BANDIT| 298.1759662313679| 420.4078617596623|430.19443345205116| 585.7376335575782|\n",
            "|       BOPE-CAVEIRA|250.78516819571865|356.70884301732923|359.21075433231397|490.36162079510706|\n",
            "|  NAVYSEAL-VALKYRIE|245.03788994510643| 337.3847904672647|342.15745079662605|478.01071093854597|\n",
            "|           SAS-MUTE|209.16224110462028|243.96216144450347|295.85209771640996|413.73393520977163|\n",
            "|      SPETSNAZ-GLAZ|198.53072916666667| 308.4244791666667|263.13072916666664| 391.3033854166667|\n",
            "|         JTAR-FROST|203.27956708827747|  259.312557047855|268.79814838962056| 382.3298995957752|\n",
            "|           SWAT-ASH|178.67752007136485|286.37625844271696| 243.0623168089716|346.80049700522494|\n",
            "|         SAT-HIBANA|168.01325684161563| 239.8383595627568|220.63508799131716| 326.1250484533685|\n",
            "|      SWAT-THERMITE|147.63273039250734|193.68134696503895| 198.2179881318367|288.49445914063057|\n",
            "|          JTAR-BUCK|139.05551064403124|187.74642953381837|197.63109673942333| 276.3621665319321|\n",
            "|         SAS-SLEDGE| 125.8365998515219|177.95805493689681|176.37453600593912|246.89584261321454|\n",
            "|       SAS-THATCHER|116.32289416846652|149.08378329733623|155.83765298776098|227.98821094312456|\n",
            "|        GIGN-TWITCH| 108.1935245416913|153.55410999408633| 135.3754188842894|207.97087522176227|\n",
            "|NAVYSEAL-BLACKBEARD| 104.5320125951194| 151.2797166098137|138.74704801889268| 206.4467331409079|\n",
            "|          SAS-SMOKE|101.23034684089804|  130.448738444429|148.16132619726142|203.19017168276918|\n",
            "|        G.E.O.-MIRA|101.10181301102027| 133.1099893352293|138.65318165659437|199.96843227870602|\n",
            "|         SWAT-PULSE|  98.1220411721317|137.48762824381413|145.33728961308924| 197.0575336954335|\n",
            "|      GIGN-MONTAGNE|  95.3317817429532| 79.89824153090251|135.71347297646756|195.67920868890613|\n",
            "|       BOPE-CAPITAO|  88.5613549492553|116.46737841043891|125.50626070910768|175.29273757743508|\n",
            "+-------------------+------------------+------------------+------------------+------------------+\n",
            "only showing top 20 rows\n",
            "\n"
          ]
        }
      ]
    },
    {
      "cell_type": "code",
      "source": [
        "df_spark.groupBy(\"operator\").count().show()"
      ],
      "metadata": {
        "id": "pIwiyVG31Upi",
        "colab": {
          "base_uri": "https://localhost:8080/"
        },
        "outputId": "8f2ab053-e921-44ac-d345-43565f0d985a"
      },
      "execution_count": 9,
      "outputs": [
        {
          "output_type": "stream",
          "name": "stdout",
          "text": [
            "+-------------------+-----+\n",
            "|           operator|count|\n",
            "+-------------------+-----+\n",
            "|          SAS-SMOKE|14387|\n",
            "|       GSG9-RESERVE|23089|\n",
            "|        G.E.O.-MIRA|14065|\n",
            "|      SWAT-THERMITE|13987|\n",
            "|           GIGN-DOC|21724|\n",
            "|NAVYSEAL-BLACKBEARD| 7622|\n",
            "|            GSG9-IQ|11235|\n",
            "|       GIGN-RESERVE|30516|\n",
            "|           SWAT-ASH|15694|\n",
            "|           SAT-ECHO|13313|\n",
            "|   SPETSNAZ-RESERVE|24360|\n",
            "|         SWAT-PULSE|14913|\n",
            "|    SPETSNAZ-KAPKAN|14189|\n",
            "|         JTAR-FROST| 7669|\n",
            "|      SPETSNAZ-FUZE|21760|\n",
            "|          GIGN-ROOK|21850|\n",
            "|       SWAT-RESERVE|25201|\n",
            "|         SAS-SLEDGE|13470|\n",
            "|        GIGN-TWITCH|20292|\n",
            "|          JTAR-BUCK| 7422|\n",
            "+-------------------+-----+\n",
            "only showing top 20 rows\n",
            "\n"
          ]
        }
      ]
    },
    {
      "cell_type": "code",
      "source": [
        " df_spark.agg({\"nbkills\":\"sum\"}).show() #특정 행의 합친 무언가를 하고 싶을때"
      ],
      "metadata": {
        "colab": {
          "base_uri": "https://localhost:8080/"
        },
        "id": "uPTSk9K68ZWa",
        "outputId": "aa98d249-94ed-4bc1-9153-564392942b4b"
      },
      "execution_count": 10,
      "outputs": [
        {
          "output_type": "stream",
          "name": "stdout",
          "text": [
            "+------------+\n",
            "|sum(nbkills)|\n",
            "+------------+\n",
            "|    60315936|\n",
            "+------------+\n",
            "\n"
          ]
        }
      ]
    },
    {
      "cell_type": "code",
      "source": [
        "df_spark.groupBy(\"operator\").max().show()"
      ],
      "metadata": {
        "id": "A9mDpe7sBQum",
        "colab": {
          "base_uri": "https://localhost:8080/"
        },
        "outputId": "b54839bc-77e5-4c08-fb74-e7efc508395b"
      },
      "execution_count": 11,
      "outputs": [
        {
          "output_type": "stream",
          "name": "stdout",
          "text": [
            "+-------------------+-----------+------------+-------------+------------+\n",
            "|           operator|max(nbwins)|max(nbkills)|max(nbdeaths)|max(nbpicks)|\n",
            "+-------------------+-----------+------------+-------------+------------+\n",
            "|          SAS-SMOKE|       2004|        2681|         2785|        3826|\n",
            "|       GSG9-RESERVE|        218|         282|          286|         368|\n",
            "|        G.E.O.-MIRA|       5332|        7227|         7284|       10448|\n",
            "|      SWAT-THERMITE|       4866|        6550|         6075|        9100|\n",
            "|           GIGN-DOC|       1176|        1469|         1515|        2206|\n",
            "|NAVYSEAL-BLACKBEARD|       2035|        2837|         2389|        3687|\n",
            "|            GSG9-IQ|       1079|        1603|         1344|        1937|\n",
            "|       GIGN-RESERVE|         21|          29|           45|          51|\n",
            "|           SWAT-ASH|       4142|        6598|         5157|        7576|\n",
            "|           SAT-ECHO|        950|        1315|         1194|        1818|\n",
            "|   SPETSNAZ-RESERVE|         36|          44|           55|          73|\n",
            "|         SWAT-PULSE|       2193|        3123|         3057|        4191|\n",
            "|    SPETSNAZ-KAPKAN|       1554|        2126|         2212|        2981|\n",
            "|         JTAR-FROST|       3082|        3959|         3966|        5714|\n",
            "|      SPETSNAZ-FUZE|       3201|        5204|         4090|        6046|\n",
            "|          GIGN-ROOK|       1880|        2486|         2350|        3423|\n",
            "|       SWAT-RESERVE|         58|          75|           79|         101|\n",
            "|         SAS-SLEDGE|       4422|        6379|         5747|        8260|\n",
            "|        GIGN-TWITCH|       3342|        4926|         3949|        6150|\n",
            "|          JTAR-BUCK|       2660|        3641|         3549|        5060|\n",
            "+-------------------+-----------+------------+-------------+------------+\n",
            "only showing top 20 rows\n",
            "\n"
          ]
        }
      ]
    },
    {
      "cell_type": "code",
      "source": [
        "df_spark.groupBy(\"operator\").avg().show()"
      ],
      "metadata": {
        "colab": {
          "base_uri": "https://localhost:8080/"
        },
        "id": "cgAGxmH6-2cB",
        "outputId": "3c6e6026-4fe8-4c1d-92c5-2cf65aa988f6"
      },
      "execution_count": 12,
      "outputs": [
        {
          "output_type": "stream",
          "name": "stdout",
          "text": [
            "+-------------------+------------------+------------------+------------------+------------------+\n",
            "|           operator|       avg(nbwins)|      avg(nbkills)|     avg(nbdeaths)|      avg(nbpicks)|\n",
            "+-------------------+------------------+------------------+------------------+------------------+\n",
            "|          SAS-SMOKE|101.23034684089804|  130.448738444429|148.16132619726142|203.19017168276918|\n",
            "|       GSG9-RESERVE|11.107627008532202|14.500931179349474| 17.97054874615618|  23.4471826410845|\n",
            "|        G.E.O.-MIRA|101.10181301102027| 133.1099893352293|138.65318165659437|199.96843227870602|\n",
            "|      SWAT-THERMITE|147.63273039250734|193.68134696503895| 198.2179881318367|288.49445914063057|\n",
            "|           GIGN-DOC| 53.25036825630639| 66.86162769287424| 75.88478180813847| 106.9588933897993|\n",
            "|NAVYSEAL-BLACKBEARD| 104.5320125951194| 151.2797166098137|138.74704801889268| 206.4467331409079|\n",
            "|            GSG9-IQ|59.046906987093905| 81.57970627503337| 82.95398308856252|116.66720071206052|\n",
            "|       GIGN-RESERVE|2.2540962118233057| 2.447961724996723| 3.798662996460873| 5.007373181281951|\n",
            "|           SWAT-ASH|178.67752007136485|286.37625844271696| 243.0623168089716|346.80049700522494|\n",
            "|           SAT-ECHO| 37.77270337264328| 48.66393750469466|48.692856606324646| 73.89251107939607|\n",
            "|   SPETSNAZ-RESERVE| 2.643965517241379| 3.093062397372742| 4.279844006568145| 5.749671592775041|\n",
            "|         SWAT-PULSE|  98.1220411721317|137.48762824381413|145.33728961308924| 197.0575336954335|\n",
            "|    SPETSNAZ-KAPKAN| 63.94904503488618| 83.05285784762845| 93.65860878145043|128.57199238846994|\n",
            "|         JTAR-FROST|203.27956708827747|  259.312557047855|268.79814838962056| 382.3298995957752|\n",
            "|      SPETSNAZ-FUZE| 83.17748161764706|128.63635110294118|113.38648897058823|164.06783088235295|\n",
            "|          GIGN-ROOK| 66.72713958810068| 80.13491990846681| 86.98022883295195|125.78906178489703|\n",
            "|       SWAT-RESERVE|3.3032816158088965|3.8434585929129796| 5.285901353120908| 7.045672790762271|\n",
            "|         SAS-SLEDGE| 125.8365998515219|177.95805493689681|176.37453600593912|246.89584261321454|\n",
            "|        GIGN-TWITCH| 108.1935245416913|153.55410999408633| 135.3754188842894|207.97087522176227|\n",
            "|          JTAR-BUCK|139.05551064403124|187.74642953381837|197.63109673942333| 276.3621665319321|\n",
            "+-------------------+------------------+------------------+------------------+------------------+\n",
            "only showing top 20 rows\n",
            "\n"
          ]
        }
      ]
    },
    {
      "cell_type": "code",
      "source": [
        ""
      ],
      "metadata": {
        "id": "hi2nLHJ3-2nB"
      },
      "execution_count": 10,
      "outputs": []
    },
    {
      "cell_type": "code",
      "source": [
        ""
      ],
      "metadata": {
        "id": "C9eVoOYqELVd"
      },
      "execution_count": 10,
      "outputs": []
    },
    {
      "cell_type": "code",
      "source": [
        ""
      ],
      "metadata": {
        "id": "oP3MBjYbNiKz"
      },
      "execution_count": 10,
      "outputs": []
    },
    {
      "cell_type": "code",
      "source": [
        ""
      ],
      "metadata": {
        "id": "wYgkiGuDORfs"
      },
      "execution_count": 10,
      "outputs": []
    },
    {
      "cell_type": "code",
      "source": [
        ""
      ],
      "metadata": {
        "id": "ndMdcJoIQL7r"
      },
      "execution_count": 10,
      "outputs": []
    },
    {
      "cell_type": "markdown",
      "source": [
        ""
      ],
      "metadata": {
        "id": "HAcx5PzZTA-V"
      }
    },
    {
      "cell_type": "code",
      "source": [
        ""
      ],
      "metadata": {
        "id": "5xEgncVcSCI3"
      },
      "execution_count": 10,
      "outputs": []
    },
    {
      "cell_type": "code",
      "source": [
        ""
      ],
      "metadata": {
        "id": "--f2xVMoUERC"
      },
      "execution_count": 10,
      "outputs": []
    }
  ]
}