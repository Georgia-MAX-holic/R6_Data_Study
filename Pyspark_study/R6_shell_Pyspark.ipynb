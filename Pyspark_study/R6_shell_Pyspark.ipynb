{
  "nbformat": 4,
  "nbformat_minor": 0,
  "metadata": {
    "colab": {
      "name": "Untitled19.ipynb",
      "private_outputs": true,
      "provenance": [],
      "authorship_tag": "ABX9TyN7glmLYtpuYtyO9jxLTR+W",
      "include_colab_link": true
    },
    "kernelspec": {
      "name": "python3",
      "display_name": "Python 3"
    },
    "language_info": {
      "name": "python"
    }
  },
  "cells": [
    {
      "cell_type": "markdown",
      "metadata": {
        "id": "view-in-github",
        "colab_type": "text"
      },
      "source": [
        "<a href=\"https://colab.research.google.com/github/Georgia-MAX-holic/R6_data_stduy/blob/main/R6_shell_Pyspark.ipynb\" target=\"_parent\"><img src=\"https://colab.research.google.com/assets/colab-badge.svg\" alt=\"Open In Colab\"/></a>"
      ]
    },
    {
      "cell_type": "code",
      "execution_count": null,
      "metadata": {
        "id": "vemkGnCrhcUM"
      },
      "outputs": [],
      "source": [
        "!pip install pyspark\n",
        "!pip install category_encoders"
      ]
    },
    {
      "cell_type": "code",
      "source": [
        "import pyspark\n",
        "from pyspark.sql import SparkSession\n",
        "from google.colab import drive\n",
        "from category_encoders import OneHotEncoder\n",
        "spark=SparkSession.builder.appName(\"R6_study\").getOrCreate()"
      ],
      "metadata": {
        "id": "LduF5kV-ntUC"
      },
      "execution_count": null,
      "outputs": []
    },
    {
      "cell_type": "code",
      "source": [
        "\n",
        "drive.mount('/content/gdrive', force_remount=True)\n",
        "path = '/content/gdrive/MyDrive/cpding/asdf/레식 데이터.csv'\n",
        "df_spark=spark.read.option(\"header\",\"true\").csv(path, inferSchema=True)"
      ],
      "metadata": {
        "id": "ComKf5IDoL0e"
      },
      "execution_count": null,
      "outputs": []
    },
    {
      "cell_type": "code",
      "source": [
        "class spark :\n",
        "  \n",
        "  def __init__(self, df):   \n",
        "    self.df = df\n",
        "  \n",
        "  def make_Column(self , name , up , down):\n",
        "\n",
        "    result = self.df.withColumn(name, self.df[up]/ self.df[down] )\n",
        "    return result"
      ],
      "metadata": {
        "id": "go7Vs0XgtX0D"
      },
      "execution_count": null,
      "outputs": []
    },
    {
      "cell_type": "code",
      "source": [
        "df_spark=df_spark.na.drop(\"any\")"
      ],
      "metadata": {
        "id": "8QWqyGChsSM7"
      },
      "execution_count": null,
      "outputs": []
    },
    {
      "cell_type": "code",
      "source": [
        "\n",
        "print(df_spark.dtypes)\n",
        "print(df_spark.printSchema())\n"
      ],
      "metadata": {
        "id": "p3uR14NTuium"
      },
      "execution_count": null,
      "outputs": []
    },
    {
      "cell_type": "code",
      "source": [
        "del_rank = [\"Bronze\", \"Copper\", \"Unranked\"]\n",
        "for del_rank in del_rank:\n",
        "   df_spark = df_spark.filter(~(df_spark[\"skillrank\"]==del_rank))\n",
        "  "
      ],
      "metadata": {
        "id": "Qpf1_abI1IhL"
      },
      "execution_count": null,
      "outputs": []
    },
    {
      "cell_type": "code",
      "source": [
        "df_spark.show()"
      ],
      "metadata": {
        "id": "l0zFnQSO0XZ1"
      },
      "execution_count": null,
      "outputs": []
    },
    {
      "cell_type": "code",
      "source": [
        "Divide = spark(df_spark)"
      ],
      "metadata": {
        "id": "Ep8gUVv2ZlBF"
      },
      "execution_count": null,
      "outputs": []
    },
    {
      "cell_type": "code",
      "source": [
        "df_spark_ATK=Divide.make_Column('k/d_ratio','nbkills' ,\"nbdeaths\")\n",
        "df_spark_DEF = Divide.make_Column('nbwins','nbwins','nbpicks')\n",
        "df_spark_DEF.show()"
      ],
      "metadata": {
        "id": "b2xbrGma4thu"
      },
      "execution_count": null,
      "outputs": []
    },
    {
      "cell_type": "code",
      "source": [
        ""
      ],
      "metadata": {
        "id": "EVu16Qe62XN2"
      },
      "execution_count": null,
      "outputs": []
    },
    {
      "cell_type": "code",
      "source": [
        "df_spark=df_spark.na.drop(\"any\")"
      ],
      "metadata": {
        "id": "BR2IKbLN7JjW"
      },
      "execution_count": null,
      "outputs": []
    },
    {
      "cell_type": "code",
      "source": [
        "df_spark_ATK = df_spark.filter(df_spark[\"role\"] ==\"Attacker\")\n",
        "df_spark_DEF = df_spark.filter(df_spark[\"role\"] ==\"Defender\")"
      ],
      "metadata": {
        "id": "RxFI-Nk-U9Nm"
      },
      "execution_count": null,
      "outputs": []
    }
  ]
}