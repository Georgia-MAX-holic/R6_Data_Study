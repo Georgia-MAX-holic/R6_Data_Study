{
  "nbformat": 4,
  "nbformat_minor": 0,
  "metadata": {
    "colab": {
      "name": "Untitled19.ipynb의 사본",
      "provenance": [],
      "collapsed_sections": [],
      "authorship_tag": "ABX9TyP2wVGKG+zgDliW2XOWU63a",
      "include_colab_link": true
    },
    "kernelspec": {
      "name": "python3",
      "display_name": "Python 3"
    },
    "language_info": {
      "name": "python"
    }
  },
  "cells": [
    {
      "cell_type": "markdown",
      "metadata": {
        "id": "view-in-github",
        "colab_type": "text"
      },
      "source": [
        "<a href=\"https://colab.research.google.com/github/Georgia-MAX-holic/R6_data_stduy/blob/main/R6_shell_spark_real.ipynb\" target=\"_parent\"><img src=\"https://colab.research.google.com/assets/colab-badge.svg\" alt=\"Open In Colab\"/></a>"
      ]
    },
    {
      "cell_type": "code",
      "execution_count": 1,
      "metadata": {
        "id": "vemkGnCrhcUM",
        "colab": {
          "base_uri": "https://localhost:8080/"
        },
        "outputId": "f6a86803-3f4d-45a1-d928-5a0d0f9e4da0"
      },
      "outputs": [
        {
          "output_type": "stream",
          "name": "stdout",
          "text": [
            "Looking in indexes: https://pypi.org/simple, https://us-python.pkg.dev/colab-wheels/public/simple/\n",
            "Collecting pyspark\n",
            "  Downloading pyspark-3.2.1.tar.gz (281.4 MB)\n",
            "\u001b[K     |████████████████████████████████| 281.4 MB 34 kB/s \n",
            "\u001b[?25hCollecting py4j==0.10.9.3\n",
            "  Downloading py4j-0.10.9.3-py2.py3-none-any.whl (198 kB)\n",
            "\u001b[K     |████████████████████████████████| 198 kB 52.3 MB/s \n",
            "\u001b[?25hBuilding wheels for collected packages: pyspark\n",
            "  Building wheel for pyspark (setup.py) ... \u001b[?25l\u001b[?25hdone\n",
            "  Created wheel for pyspark: filename=pyspark-3.2.1-py2.py3-none-any.whl size=281853642 sha256=6d632192b8b68e07e055cc28aa48914ad4e0e7fba39641d2c0b1ec03ca80c0ad\n",
            "  Stored in directory: /root/.cache/pip/wheels/9f/f5/07/7cd8017084dce4e93e84e92efd1e1d5334db05f2e83bcef74f\n",
            "Successfully built pyspark\n",
            "Installing collected packages: py4j, pyspark\n",
            "Successfully installed py4j-0.10.9.3 pyspark-3.2.1\n",
            "Looking in indexes: https://pypi.org/simple, https://us-python.pkg.dev/colab-wheels/public/simple/\n",
            "Collecting category_encoders\n",
            "  Downloading category_encoders-2.5.0-py2.py3-none-any.whl (69 kB)\n",
            "\u001b[K     |████████████████████████████████| 69 kB 5.7 MB/s \n",
            "\u001b[?25hRequirement already satisfied: scikit-learn>=0.20.0 in /usr/local/lib/python3.7/dist-packages (from category_encoders) (1.0.2)\n",
            "Requirement already satisfied: pandas>=1.0.5 in /usr/local/lib/python3.7/dist-packages (from category_encoders) (1.3.5)\n",
            "Requirement already satisfied: patsy>=0.5.1 in /usr/local/lib/python3.7/dist-packages (from category_encoders) (0.5.2)\n",
            "Requirement already satisfied: scipy>=1.0.0 in /usr/local/lib/python3.7/dist-packages (from category_encoders) (1.4.1)\n",
            "Requirement already satisfied: numpy>=1.14.0 in /usr/local/lib/python3.7/dist-packages (from category_encoders) (1.21.6)\n",
            "Requirement already satisfied: statsmodels>=0.9.0 in /usr/local/lib/python3.7/dist-packages (from category_encoders) (0.10.2)\n",
            "Requirement already satisfied: python-dateutil>=2.7.3 in /usr/local/lib/python3.7/dist-packages (from pandas>=1.0.5->category_encoders) (2.8.2)\n",
            "Requirement already satisfied: pytz>=2017.3 in /usr/local/lib/python3.7/dist-packages (from pandas>=1.0.5->category_encoders) (2022.1)\n",
            "Requirement already satisfied: six in /usr/local/lib/python3.7/dist-packages (from patsy>=0.5.1->category_encoders) (1.15.0)\n",
            "Requirement already satisfied: threadpoolctl>=2.0.0 in /usr/local/lib/python3.7/dist-packages (from scikit-learn>=0.20.0->category_encoders) (3.1.0)\n",
            "Requirement already satisfied: joblib>=0.11 in /usr/local/lib/python3.7/dist-packages (from scikit-learn>=0.20.0->category_encoders) (1.1.0)\n",
            "Installing collected packages: category-encoders\n",
            "Successfully installed category-encoders-2.5.0\n"
          ]
        }
      ],
      "source": [
        "!pip install pyspark\n",
        "!pip install category_encoders"
      ]
    },
    {
      "cell_type": "code",
      "source": [
        "import pyspark\n",
        "from pyspark.sql import SparkSession\n",
        "from google.colab import drive\n",
        "from category_encoders import OneHotEncoder\n",
        "spark=SparkSession.builder.appName(\"R6_study\").getOrCreate()"
      ],
      "metadata": {
        "id": "LduF5kV-ntUC",
        "colab": {
          "base_uri": "https://localhost:8080/"
        },
        "outputId": "b015fd9b-6ee8-4090-a9c8-b70da6ddfe0b"
      },
      "execution_count": 2,
      "outputs": [
        {
          "output_type": "stream",
          "name": "stderr",
          "text": [
            "/usr/local/lib/python3.7/dist-packages/statsmodels/tools/_testing.py:19: FutureWarning: pandas.util.testing is deprecated. Use the functions in the public API at pandas.testing instead.\n",
            "  import pandas.util.testing as tm\n"
          ]
        }
      ]
    },
    {
      "cell_type": "code",
      "source": [
        "\n",
        "drive.mount('/content/gdrive', force_remount=True)\n",
        "\n"
      ],
      "metadata": {
        "id": "ComKf5IDoL0e",
        "colab": {
          "base_uri": "https://localhost:8080/"
        },
        "outputId": "6c6ac787-71b9-43f2-ac56-22fa18288399"
      },
      "execution_count": 3,
      "outputs": [
        {
          "output_type": "stream",
          "name": "stdout",
          "text": [
            "Mounted at /content/gdrive\n"
          ]
        }
      ]
    },
    {
      "cell_type": "code",
      "source": [
        "path = '/content/gdrive/MyDrive/cpding/asdf/레식 데이터.csv'\n",
        "df_spark=spark.read.option(\"header\",\"true\").csv(path, inferSchema=True)"
      ],
      "metadata": {
        "id": "d4uIYiplorxj"
      },
      "execution_count": 4,
      "outputs": []
    },
    {
      "cell_type": "code",
      "source": [
        "class spark :\n",
        "  \n",
        "  def __init__(self, df):   \n",
        "    self.df = df\n",
        "\n",
        "  \n",
        "  def make_Column(self , name , up , down):\n",
        "\n",
        "    df_spark = self.df.withColumn(name, self.df[up]/ self.df[down] )\n",
        "    define = spark(self.df)\n",
        "    return df_spark\n",
        "    \n",
        "  \n",
        "  def del_Column(self,col_name):\n",
        "    df_spark = self.df.drop(col_name)\n",
        "    \n",
        "    return df_spark \n",
        "    \n",
        "  \n",
        "  def div_team(self, role, team):\n",
        "    df_spark = self.df.filter(self.df[role] == team)\n",
        "    \n",
        "    return df_spark \n",
        "\n",
        "  \n",
        "\n",
        "\n"
      ],
      "metadata": {
        "id": "go7Vs0XgtX0D"
      },
      "execution_count": 5,
      "outputs": []
    },
    {
      "cell_type": "code",
      "source": [
        "df_spark=df_spark.na.drop(\"any\")\n"
      ],
      "metadata": {
        "id": "8QWqyGChsSM7"
      },
      "execution_count": 6,
      "outputs": []
    },
    {
      "cell_type": "code",
      "source": [
        ""
      ],
      "metadata": {
        "id": "1Ezi4RgluKK3"
      },
      "execution_count": 6,
      "outputs": []
    },
    {
      "cell_type": "code",
      "source": [
        "print(df_spark.dtypes)\n",
        "print(df_spark.printSchema())\n"
      ],
      "metadata": {
        "id": "p3uR14NTuium",
        "colab": {
          "base_uri": "https://localhost:8080/"
        },
        "outputId": "bfa7d502-e44f-4973-bae1-732b5f8c8695"
      },
      "execution_count": 7,
      "outputs": [
        {
          "output_type": "stream",
          "name": "stdout",
          "text": [
            "[('skillrank', 'string'), ('role', 'string'), ('operator', 'string'), ('primaryweapon', 'string'), ('secondaryweapon', 'string'), ('secondarygadget', 'string'), ('nbwins', 'int'), ('nbkills', 'int'), ('nbdeaths', 'int'), ('nbpicks', 'int')]\n",
            "root\n",
            " |-- skillrank: string (nullable = true)\n",
            " |-- role: string (nullable = true)\n",
            " |-- operator: string (nullable = true)\n",
            " |-- primaryweapon: string (nullable = true)\n",
            " |-- secondaryweapon: string (nullable = true)\n",
            " |-- secondarygadget: string (nullable = true)\n",
            " |-- nbwins: integer (nullable = true)\n",
            " |-- nbkills: integer (nullable = true)\n",
            " |-- nbdeaths: integer (nullable = true)\n",
            " |-- nbpicks: integer (nullable = true)\n",
            "\n",
            "None\n"
          ]
        }
      ]
    },
    {
      "cell_type": "code",
      "source": [
        "del_rank = [\"Bronze\", \"Copper\", \"Unranked\"]\n",
        "for del_rank in del_rank:\n",
        "   df_spark = df_spark.filter(~(df_spark[\"skillrank\"]==del_rank))\n",
        "\n",
        "df_spark.show()\n",
        "type(df_spark)"
      ],
      "metadata": {
        "id": "Qpf1_abI1IhL",
        "colab": {
          "base_uri": "https://localhost:8080/"
        },
        "outputId": "07b7c6f2-568e-4c53-a78f-cd246c93ef75"
      },
      "execution_count": 8,
      "outputs": [
        {
          "output_type": "stream",
          "name": "stdout",
          "text": [
            "+---------+--------+-------------+-------------+---------------+---------------+------+-------+--------+-------+\n",
            "|skillrank|    role|     operator|primaryweapon|secondaryweapon|secondarygadget|nbwins|nbkills|nbdeaths|nbpicks|\n",
            "+---------+--------+-------------+-------------+---------------+---------------+------+-------+--------+-------+\n",
            "|  Diamond|Attacker| BOPE-CAPITAO|           AR|         Pistol|   STUN GRENADE|     0|      0|       1|      1|\n",
            "|  Diamond|Attacker|G.E.O.-JACKAL|           AR|             SG|   STUN GRENADE|     0|      0|       1|      1|\n",
            "|  Diamond|Attacker|GIGN-MONTAGNE|       Shield|         Pistol|  SMOKE GRENADE|     2|      4|       1|      3|\n",
            "|  Diamond|Attacker|  GIGN-TWITCH|           AR|         Pistol|  BREACH CHARGE|     0|      1|       1|      1|\n",
            "|  Diamond|Attacker|  GIGN-TWITCH|           AR|         Pistol|  BREACH CHARGE|     3|      7|       1|      4|\n",
            "|  Diamond|Attacker|    JTAR-BUCK|           AR|         Pistol|   FRAG GRENADE|     1|      1|       1|      2|\n",
            "|  Diamond|Attacker|   SAS-SLEDGE|           AR|            SMG|   FRAG GRENADE|     1|      2|       0|      1|\n",
            "|  Diamond|Attacker| SAS-THATCHER|           AR|         Pistol|  BREACH CHARGE|     1|      3|       0|      1|\n",
            "|  Diamond|Attacker| SAS-THATCHER|           AR|         Pistol|       CLAYMORE|     0|      0|       1|      1|\n",
            "|  Diamond|Attacker|   SAT-HIBANA|           AR|            SMG|       CLAYMORE|     2|      1|       2|      3|\n",
            "|  Diamond|Attacker|   SAT-HIBANA|           AR|            SMG|   STUN GRENADE|     4|      6|       7|      8|\n",
            "|  Diamond|Attacker|SPETSNAZ-FUZE|           AR|         Pistol|  BREACH CHARGE|     2|      2|       0|      2|\n",
            "|  Diamond|Attacker|     SWAT-ASH|           AR|         Pistol|  SMOKE GRENADE|     2|      4|       0|      2|\n",
            "|  Diamond|Attacker|SWAT-THERMITE|           AR|         Pistol|  SMOKE GRENADE|     1|      0|       0|      1|\n",
            "|  Diamond|Defender| BOPE-CAVEIRA|          SMG|         Pistol|    BARBED WIRE|     2|      3|       1|      2|\n",
            "|  Diamond|Defender| BOPE-CAVEIRA|          SMG|         Pistol| IMPACT GRENADE|     1|      1|       0|      1|\n",
            "|  Diamond|Defender|  G.E.O.-MIRA|          SMG|             SG|     NITRO CELL|     4|      0|       2|      5|\n",
            "|  Diamond|Defender|     GIGN-DOC|          SMG|         Pistol|    BARBED WIRE|     0|      2|       1|      1|\n",
            "|  Diamond|Defender|    GIGN-ROOK|          SMG|         Pistol| IMPACT GRENADE|     0|      0|       1|      1|\n",
            "|  Diamond|Defender|    GIGN-ROOK|          SMG|         Pistol| IMPACT GRENADE|     4|      4|       3|      6|\n",
            "+---------+--------+-------------+-------------+---------------+---------------+------+-------+--------+-------+\n",
            "only showing top 20 rows\n",
            "\n"
          ]
        },
        {
          "output_type": "execute_result",
          "data": {
            "text/plain": [
              "pyspark.sql.dataframe.DataFrame"
            ]
          },
          "metadata": {},
          "execution_count": 8
        }
      ]
    },
    {
      "cell_type": "code",
      "source": [
        "use_list= [\"role\",\"operator\",\"nbwins\", \"nbkills\", \"nbkills\",\"nbdeaths\",\"nbpicks\"]\n",
        "\n",
        "df_spark=df_spark.select(use_list)\n",
        "df_spark.show()"
      ],
      "metadata": {
        "id": "l0zFnQSO0XZ1",
        "colab": {
          "base_uri": "https://localhost:8080/"
        },
        "outputId": "117087a5-4546-44b7-afc6-8194f12e7aaa"
      },
      "execution_count": 9,
      "outputs": [
        {
          "output_type": "stream",
          "name": "stdout",
          "text": [
            "+--------+-------------+------+-------+-------+--------+-------+\n",
            "|    role|     operator|nbwins|nbkills|nbkills|nbdeaths|nbpicks|\n",
            "+--------+-------------+------+-------+-------+--------+-------+\n",
            "|Attacker| BOPE-CAPITAO|     0|      0|      0|       1|      1|\n",
            "|Attacker|G.E.O.-JACKAL|     0|      0|      0|       1|      1|\n",
            "|Attacker|GIGN-MONTAGNE|     2|      4|      4|       1|      3|\n",
            "|Attacker|  GIGN-TWITCH|     0|      1|      1|       1|      1|\n",
            "|Attacker|  GIGN-TWITCH|     3|      7|      7|       1|      4|\n",
            "|Attacker|    JTAR-BUCK|     1|      1|      1|       1|      2|\n",
            "|Attacker|   SAS-SLEDGE|     1|      2|      2|       0|      1|\n",
            "|Attacker| SAS-THATCHER|     1|      3|      3|       0|      1|\n",
            "|Attacker| SAS-THATCHER|     0|      0|      0|       1|      1|\n",
            "|Attacker|   SAT-HIBANA|     2|      1|      1|       2|      3|\n",
            "|Attacker|   SAT-HIBANA|     4|      6|      6|       7|      8|\n",
            "|Attacker|SPETSNAZ-FUZE|     2|      2|      2|       0|      2|\n",
            "|Attacker|     SWAT-ASH|     2|      4|      4|       0|      2|\n",
            "|Attacker|SWAT-THERMITE|     1|      0|      0|       0|      1|\n",
            "|Defender| BOPE-CAVEIRA|     2|      3|      3|       1|      2|\n",
            "|Defender| BOPE-CAVEIRA|     1|      1|      1|       0|      1|\n",
            "|Defender|  G.E.O.-MIRA|     4|      0|      0|       2|      5|\n",
            "|Defender|     GIGN-DOC|     0|      2|      2|       1|      1|\n",
            "|Defender|    GIGN-ROOK|     0|      0|      0|       1|      1|\n",
            "|Defender|    GIGN-ROOK|     4|      4|      4|       3|      6|\n",
            "+--------+-------------+------+-------+-------+--------+-------+\n",
            "only showing top 20 rows\n",
            "\n"
          ]
        }
      ]
    },
    {
      "cell_type": "markdown",
      "source": [
        ""
      ],
      "metadata": {
        "id": "H19BNwaz9sZz"
      }
    },
    {
      "cell_type": "code",
      "source": [
        "define = spark(df_spark)"
      ],
      "metadata": {
        "id": "Ep8gUVv2ZlBF"
      },
      "execution_count": 10,
      "outputs": []
    },
    {
      "cell_type": "code",
      "source": [
        "\n",
        "df_spark=define.make_Column('k/d_ratio','nbkills' ,\"nbdeaths\")\n",
        "df_spark.show(5)\n",
        "df_spark=define.make_Column('nbwins','nbwins','nbpicks')\n",
        "df_spark.show(5)\n",
        "\n",
        "# 여기 물어보는건데 , define 불러서 df_spark 넣은거,  df_spark 새로 저장하고 다시 define 쓴건데 적용이 안되있고 초기버전으로 돌아가네 "
      ],
      "metadata": {
        "id": "b2xbrGma4thu",
        "colab": {
          "base_uri": "https://localhost:8080/"
        },
        "outputId": "13334c93-6e2f-47ea-f592-c7fce340bab6"
      },
      "execution_count": 11,
      "outputs": [
        {
          "output_type": "stream",
          "name": "stdout",
          "text": [
            "+--------+-------------+------+-------+-------+--------+-------+---------+\n",
            "|    role|     operator|nbwins|nbkills|nbkills|nbdeaths|nbpicks|k/d_ratio|\n",
            "+--------+-------------+------+-------+-------+--------+-------+---------+\n",
            "|Attacker| BOPE-CAPITAO|     0|      0|      0|       1|      1|      0.0|\n",
            "|Attacker|G.E.O.-JACKAL|     0|      0|      0|       1|      1|      0.0|\n",
            "|Attacker|GIGN-MONTAGNE|     2|      4|      4|       1|      3|      4.0|\n",
            "|Attacker|  GIGN-TWITCH|     0|      1|      1|       1|      1|      1.0|\n",
            "|Attacker|  GIGN-TWITCH|     3|      7|      7|       1|      4|      7.0|\n",
            "+--------+-------------+------+-------+-------+--------+-------+---------+\n",
            "only showing top 5 rows\n",
            "\n",
            "+--------+-------------+------------------+-------+-------+--------+-------+\n",
            "|    role|     operator|            nbwins|nbkills|nbkills|nbdeaths|nbpicks|\n",
            "+--------+-------------+------------------+-------+-------+--------+-------+\n",
            "|Attacker| BOPE-CAPITAO|               0.0|      0|      0|       1|      1|\n",
            "|Attacker|G.E.O.-JACKAL|               0.0|      0|      0|       1|      1|\n",
            "|Attacker|GIGN-MONTAGNE|0.6666666666666666|      4|      4|       1|      3|\n",
            "|Attacker|  GIGN-TWITCH|               0.0|      1|      1|       1|      1|\n",
            "|Attacker|  GIGN-TWITCH|              0.75|      7|      7|       1|      4|\n",
            "+--------+-------------+------------------+-------+-------+--------+-------+\n",
            "only showing top 5 rows\n",
            "\n"
          ]
        }
      ]
    },
    {
      "cell_type": "code",
      "source": [
        "\n",
        "df_spark=define.make_Column('k/d_ratio','nbkills' ,\"nbdeaths\")\n",
        "define = spark(df_spark)\n",
        "df_spark=define.make_Column('nbwins','nbwins','nbpicks')\n",
        "df_spark.show(5)\n",
        "#df_joined = df_spark_item.join(df_spark_qty, [df_spark_item.id == df_spark_qty.id], 'inner')\n",
        "\n",
        "#내가 원하는거"
      ],
      "metadata": {
        "id": "EVu16Qe62XN2",
        "colab": {
          "base_uri": "https://localhost:8080/"
        },
        "outputId": "9015b10d-45ce-40bd-968b-75709ceaebff"
      },
      "execution_count": 15,
      "outputs": [
        {
          "output_type": "stream",
          "name": "stdout",
          "text": [
            "+--------+-------------+------------------+-------+-------+--------+-------+---------+\n",
            "|    role|     operator|            nbwins|nbkills|nbkills|nbdeaths|nbpicks|k/d_ratio|\n",
            "+--------+-------------+------------------+-------+-------+--------+-------+---------+\n",
            "|Attacker| BOPE-CAPITAO|               0.0|      0|      0|       1|      1|      0.0|\n",
            "|Attacker|G.E.O.-JACKAL|               0.0|      0|      0|       1|      1|      0.0|\n",
            "|Attacker|GIGN-MONTAGNE|0.6666666666666666|      4|      4|       1|      3|      4.0|\n",
            "|Attacker|  GIGN-TWITCH|               0.0|      1|      1|       1|      1|      1.0|\n",
            "|Attacker|  GIGN-TWITCH|              0.75|      7|      7|       1|      4|      7.0|\n",
            "+--------+-------------+------------------+-------+-------+--------+-------+---------+\n",
            "only showing top 5 rows\n",
            "\n"
          ]
        }
      ]
    },
    {
      "cell_type": "code",
      "source": [
        ""
      ],
      "metadata": {
        "id": "BR2IKbLN7JjW"
      },
      "execution_count": 12,
      "outputs": []
    },
    {
      "cell_type": "code",
      "source": [
        "df_spark_ATK = df_spark.filter(df_spark[\"role\"] ==\"Attacker\")\n",
        "df_spark_DEF = df_spark.filter(df_spark[\"role\"] ==\"Defender\")"
      ],
      "metadata": {
        "id": "RxFI-Nk-U9Nm"
      },
      "execution_count": 13,
      "outputs": []
    },
    {
      "cell_type": "code",
      "source": [
        "df_spark"
      ],
      "metadata": {
        "id": "RkJiQPWbBhpf",
        "colab": {
          "base_uri": "https://localhost:8080/"
        },
        "outputId": "a385ae84-33e9-4a07-9e3b-d627d6a689d7"
      },
      "execution_count": 14,
      "outputs": [
        {
          "output_type": "execute_result",
          "data": {
            "text/plain": [
              "DataFrame[role: string, operator: string, nbwins: double, nbkills: int, nbkills: int, nbdeaths: int, nbpicks: int]"
            ]
          },
          "metadata": {},
          "execution_count": 14
        }
      ]
    },
    {
      "cell_type": "code",
      "source": [
        ""
      ],
      "metadata": {
        "id": "rJHeXQUvBhkb"
      },
      "execution_count": 14,
      "outputs": []
    }
  ]
}